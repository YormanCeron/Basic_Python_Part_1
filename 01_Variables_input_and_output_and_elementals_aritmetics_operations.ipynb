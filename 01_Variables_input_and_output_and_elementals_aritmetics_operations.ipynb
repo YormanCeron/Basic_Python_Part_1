{
 "cells": [
  {
   "cell_type": "markdown",
   "id": "5913379d",
   "metadata": {},
   "source": [
    "# Variables, inputs, output and elementals arithmetics operations\n",
    "\n",
    "The main goal of this repository is to share some exercises I used to learn Python, and of course, anyone who wants to learn Python can use them too."
   ]
  },
  {
   "cell_type": "markdown",
   "id": "c87b9aa4",
   "metadata": {},
   "source": [
    "### Exercise 1\n",
    "\n",
    "Write a program that asks for two numbers and outputs their arithmetic mean.\n",
    "\n",
    "Remember that the arithmetic mean of two numbers is the sum of both numbers divided by 2."
   ]
  },
  {
   "cell_type": "code",
   "execution_count": null,
   "id": "3a31edaa",
   "metadata": {},
   "outputs": [],
   "source": [
    "a = float(input(\"Enter the first number: \"))\n",
    "b = float(input(\"Enter the second number: \"))\n",
    "c = (a+b)/2\n",
    "print(\"The arithmethic mean is:\", c)"
   ]
  },
  {
   "cell_type": "markdown",
   "id": "2c78ce9b",
   "metadata": {},
   "source": [
    "### Exercise 2\n",
    "\n",
    "Write a program that asks for a temperature in degrees Celsius and outputs that temperature in degrees Fahrenheit.\n",
    "\n",
    "Remember that the relationship between degrees Celsius (C) and Fahrenheit (F) is: F = 1,8 * C + 32"
   ]
  },
  {
   "cell_type": "code",
   "execution_count": null,
   "id": "39ad508b",
   "metadata": {},
   "outputs": [],
   "source": [
    "c = float(input(\"Enter the temperature in degrees celsius: \"))\n",
    "f = (1.8 * c) + 32\n",
    "print(\"The temperature in degrees Fahrenheit is:\", f,\"F\")"
   ]
  },
  {
   "cell_type": "markdown",
   "id": "414433aa",
   "metadata": {},
   "source": [
    "### Exercise 3\n",
    "\n",
    "Write a program that asks for a temperature in degrees Fahrenheit and outputs that temperature in degrees Celsius.\n",
    "\n",
    "Remember that the relationship between degrees Celsius (C) y Fahrenheit (F) is: C = (F - 32) / 1,8"
   ]
  },
  {
   "cell_type": "code",
   "execution_count": null,
   "id": "dc98faa1",
   "metadata": {},
   "outputs": [],
   "source": [
    "f = float(input(\"Enter the temperature in degrees Fahrenheit: \"))\n",
    "c = (f-32)/1.8\n",
    "print(\"The temperature in degrees Celsius is:\", c,\"ºC\")"
   ]
  },
  {
   "cell_type": "markdown",
   "id": "b8144dd8",
   "metadata": {},
   "source": [
    "### Exercise 4\n",
    "\n",
    "Write a program that asks for an amount of seconds and outputs how many minutes and seconds it is."
   ]
  },
  {
   "cell_type": "code",
   "execution_count": null,
   "id": "579de246",
   "metadata": {},
   "outputs": [],
   "source": [
    "cant_s = float(input(\"Enter the seconds: \"))\n",
    "m = int(cant_s/60)\n",
    "s = round(((cant_s/60) - m) * 60, 2)\n",
    "print(m)\n",
    "print(s)"
   ]
  },
  {
   "cell_type": "markdown",
   "id": "68634a0b",
   "metadata": {},
   "source": [
    "Another way to do this using division would be:"
   ]
  },
  {
   "cell_type": "code",
   "execution_count": null,
   "id": "38bf1a0a",
   "metadata": {},
   "outputs": [],
   "source": [
    "cant_s = float(input(\"Enter the seconds: \"))\n",
    "m = int(cant_s/60)\n",
    "s = cant_s%60\n",
    "print(m)\n",
    "print(s)"
   ]
  },
  {
   "cell_type": "markdown",
   "id": "aa43304a",
   "metadata": {},
   "source": [
    "### Exersice 5\n",
    "\n",
    "Write a program that asks for an amount of seconds and outputs how many hours, minutes, and seconds it is."
   ]
  },
  {
   "cell_type": "code",
   "execution_count": null,
   "id": "8539ecab",
   "metadata": {},
   "outputs": [],
   "source": [
    "cant_s = float(input(\"Enter the seconds: \"))\n",
    "h = int(cant_s/3600)\n",
    "m = int(((cant_s/3600) - h)*60)\n",
    "s = int(((((cant_s/3600) - h)*60)-m)*60)\n",
    "print(h)\n",
    "print(m)\n",
    "print(s)\n"
   ]
  },
  {
   "cell_type": "code",
   "execution_count": null,
   "id": "fe9c5e58",
   "metadata": {},
   "outputs": [],
   "source": []
  }
 ],
 "metadata": {
  "kernelspec": {
   "display_name": "Python 3",
   "language": "python",
   "name": "python3"
  },
  "language_info": {
   "codemirror_mode": {
    "name": "ipython",
    "version": 3
   },
   "file_extension": ".py",
   "mimetype": "text/x-python",
   "name": "python",
   "nbconvert_exporter": "python",
   "pygments_lexer": "ipython3",
   "version": "3.13.5"
  }
 },
 "nbformat": 4,
 "nbformat_minor": 5
}
