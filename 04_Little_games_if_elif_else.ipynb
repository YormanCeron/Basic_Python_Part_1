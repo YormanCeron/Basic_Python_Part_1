{
 "cells": [
  {
   "cell_type": "markdown",
   "id": "377a2f9f",
   "metadata": {},
   "source": [
    "### Ejercicio 1\n",
    "\n",
    "Escriba un programa que simule un juego en el que dos jugadores (Álvaro y Bárbara) tiran un dado. El que saque el valor más alto, gana. Si la puntuación coincide, empatan."
   ]
  },
  {
   "cell_type": "code",
   "execution_count": 42,
   "id": "60ca75b5",
   "metadata": {},
   "outputs": [
    {
     "name": "stdout",
     "output_type": "stream",
     "text": [
      "Álbaro - Ingrese el número del dado que ha sacado: 3\n",
      "Barbára - Ingrese el número del dado que ha sacado: 2\n",
      "Alvaro sacó el valor más alto.\n"
     ]
    }
   ],
   "source": [
    "### n_alvaro = 0\n",
    "n_barbara = 0\n",
    "\n",
    "n_alvaro = int(input(\"Álbaro - Ingrese el número del dado que ha sacado: \"))\n",
    "n_barbara = int(input(\"Barbára - Ingrese el número del dado que ha sacado: \"))\n",
    "\n",
    "if 0 < n_alvaro <= 6 and 0 < n_barbara <= 6:\n",
    "    if n_alvaro <= n_barbara:\n",
    "        print(\"Barbara sacó el valor más alto.\")\n",
    "    elif n_alvaro > n_barbara:\n",
    "        print(\"Alvaro sacó el valor más alto.\")\n",
    "    else:\n",
    "        print(\"Los valores coinciden, es un empate.\")\n",
    "else:\n",
    "    print(\"valores erroneos.\")"
   ]
  },
  {
   "cell_type": "markdown",
   "id": "7b9db543",
   "metadata": {},
   "source": [
    "### Ejercicio 2\n",
    "\n",
    "Escriba un programa que simule un juego en el que dos jugadores (Carmen y David) tiran dos dados. El que saque mayor puntuación total, gana. Si la puntuación total coincide, gana quien haya sacado el dado con el valor más alto. Si el valor más alto también coincide, empatan."
   ]
  },
  {
   "cell_type": "code",
   "execution_count": null,
   "id": "f59ace24",
   "metadata": {},
   "outputs": [],
   "source": [
    "n1_carmen = 0\n",
    "n2_carmen = 0\n",
    "n1_david = 0\n",
    "n2_david = 0\n",
    "suma_carmen = 0\n",
    "suma_david = 0\n",
    "\n",
    "n1_carmen = int(input(\"Carmen - Ingrese el número del dado 1: \"))\n",
    "n2_carmen = int(input(\"Carmen - Ingrese el número del dado 2: \"))\n",
    "n1_david = int(input(\"David - Ingrese el número del dado 1: \"))\n",
    "n2_david = int(input(\"David - Ingrese el número del dado 2: \"))\n",
    "\n",
    "if 0 < n1_carmen <= 6 and 0 < n2_carmen <= 6:\n",
    "    suma_carmen = n1_carmen + n2_carmen\n",
    "    if 0 < n1_david <= 6 and 0 < n2_david <= 6:\n",
    "        suma_david = n1_david + n2_david\n",
    "        if suma_carmen > suma_david:\n",
    "            print(\"Carmen sacó el valor más alto.\")\n",
    "        elif suma_carmen < suma_david:\n",
    "            print(\"David sacó el valor más alto.\")\n",
    "        else:\n",
    "            if n1_carmen > n2_carmen and n1_carmen > n1_david and n1_carmen > n2_david:\n",
    "                print(\"Hubo un empate pero gana Carmen al sacar el dado con el mayor valor.\")\n",
    "            elif n2_carmen > n1_carmen and n2_carmen > n1_david and n2_carmen > n2_david:\n",
    "                print(\"Hubo un empate pero gana Carmen al sacar el dado con el mayor valor.\")\n",
    "            else:\n",
    "                if n1_david > n2_david and n1_david > n1_carmen and n1_david > n2_carmen:\n",
    "                    print(\"Hubo un empate pero gana David al sacar el dado con el mayor valor.\")\n",
    "                elif n2_david > n1_david and n2_david > n1_carmen and n2_david > n2_carmen:\n",
    "                    print(\"Hubo un empate pero gana David al sacar el dado con el mayor valor.\")\n",
    "                else:\n",
    "                    print(\"Tenemos la suma total y en el valor del dado mayor iguales, por lo tanto es un empate.\")    \n",
    "    else:\n",
    "        print(\"David tiene uno o varios valores erroneos.\")\n",
    "else:\n",
    "    print(\"Carmen tiene uno o varios valores erroneos.\")"
   ]
  },
  {
   "cell_type": "markdown",
   "id": "27cabda8",
   "metadata": {},
   "source": [
    "### Ejercicio 3\n",
    "\n",
    "Escriba un programa que simule un juego en el que dos jugadores (Elena y Fernando) tiran dos dados. El que saque el valor más alto, gana. Si el valor más alto coincide, decide el otro dado. Si también coincide, empatan."
   ]
  },
  {
   "cell_type": "code",
   "execution_count": null,
   "id": "13297d8d",
   "metadata": {
    "scrolled": true
   },
   "outputs": [],
   "source": [
    "n1_elena = 0\n",
    "n2_elena = 0\n",
    "n1_fernando = 0\n",
    "n2_fernando = 0\n",
    "n_elena = 0\n",
    "otro_elena= 0\n",
    "n_fernando = 0\n",
    "otro_fernando = 0\n",
    "\n",
    "n1_elena = int(input(\"Elena - Ingrese el número del dado 1: \"))\n",
    "n2_elena = int(input(\"Elena - Ingrese el número del dado 2: \"))\n",
    "n1_fernando = int(input(\"Fernando - Ingrese el número del dado 1: \"))\n",
    "n2_fernando = int(input(\"Fernando - Ingrese el número del dado 2: \"))\n",
    "\n",
    "if 0 < n1_elena <= 6 and 0 < n2_elena <= 6:\n",
    "    if n1_elena >= n2_elena:\n",
    "        n_elena = n1_elena\n",
    "        otro_elena = n2_elena\n",
    "    else:\n",
    "        n_elena = n2_elena\n",
    "        otro_elena = n1_elena\n",
    "    if 0 < n1_fernando <= 6 and 0 < n2_fernando <= 6:\n",
    "        if n1_fernando >= n2_fernando:\n",
    "            n_fernando = n1_fernando\n",
    "            otro_fernando = n2_fernando\n",
    "        else:\n",
    "            n_fernando = n2_fernando\n",
    "            otro_fernando = n1_fernando\n",
    "        if n_elena > n_fernando:\n",
    "            print(\"Elena sacó el valor más alto.\")\n",
    "        elif n_elena < n_fernando:\n",
    "            print(\"Fernando sacó el valor más alto.\")\n",
    "        else:\n",
    "            if otro_elena > otro_fernando:\n",
    "                print(\"Elena sacó el valor más alto.\")\n",
    "            elif otro_elena < otro_fernando:\n",
    "                print(\"Fernando sacó el valor más alto.\")\n",
    "            else:\n",
    "                print(\"Hubo un empate.\")\n",
    "    else:\n",
    "        print(\"Fernando tiene uno o varios valores erroneos.\")\n",
    "else:\n",
    "    print(\"Elena tiene uno o varios valores erroneos.\")"
   ]
  },
  {
   "cell_type": "markdown",
   "id": "1e324f7d",
   "metadata": {},
   "source": [
    "### Ejercicio 4\n",
    "\n",
    "Escriba un programa que simule un juego en el que dos jugadores (Gloria y Héctor) sacan tres cartas al azar del 1 al 10. Gana el jugador que obtenga la mayor puntuación total, siempre que no se pase de quince, en cuyo caso el jugador pierde."
   ]
  },
  {
   "cell_type": "code",
   "execution_count": null,
   "id": "eee02abc",
   "metadata": {
    "scrolled": true
   },
   "outputs": [],
   "source": [
    "c1_g = 0\n",
    "c2_g = 0\n",
    "c3_g = 0\n",
    "c1_h = 0\n",
    "c2_h = 0\n",
    "c3_h = 0\n",
    "suma_g = 0\n",
    "suma_h = 0\n",
    "\n",
    "c1_g = int(input(\"Gloria - Ingrese el número de la carta 1: \"))\n",
    "c2_g = int(input(\"Gloria - Ingrese el número de la carta 2: \"))\n",
    "c3_g = int(input(\"Gloria - Ingrese el número de la carta 3: \"))\n",
    "c1_h = int(input(\"Hector - Ingrese el número de la carta 1: \"))\n",
    "c2_h = int(input(\"Hector - Ingrese el número de la carta 2: \"))\n",
    "c3_h = int(input(\"Hector - Ingrese el número de la carta 3: \"))\n",
    "\n",
    "if 0 < c1_g <= 10 and 0 < c2_g <= 10 and 0 < c3_g <= 10:\n",
    "    suma_g = c1_g + c2_g + c3_g\n",
    "    if 0 < c1_h <= 10 and 0 < c2_h <= 10 and 0 < c3_h <= 10:\n",
    "        suma_h = c1_h + c2_h + c3_h\n",
    "        if suma_g <= 15 and suma_h <= 15:\n",
    "            if suma_g > suma_h:\n",
    "                print(\"Gloria sacó el valor más alto.\")\n",
    "            elif suma_g < suma_h:\n",
    "                print(\"Hector sacó el valor más alto.\")\n",
    "            else:\n",
    "                print(\"Hubo un empate.\")    \n",
    "        elif suma_g >= 15 or suma_h >= 15:\n",
    "            if suma_g >= 15 and suma_h >= 15:\n",
    "                print(\"No ha ganado nadie.\")\n",
    "            else:\n",
    "                if suma_g > suma_h:\n",
    "                    if suma_g <= 15:\n",
    "                        print(\"Gloria sacó el valor más alto.\")\n",
    "                    else:\n",
    "                        print(\"Gloria sacó más de 15, gana Hector.\")\n",
    "                elif suma_g < suma_h:\n",
    "                    if suma_h <= 15:\n",
    "                        print(\"Hector sacó el valor más alto.\")\n",
    "                    else:\n",
    "                        print(\"Hector sacó más de 15, gana Gloria.\")\n",
    "                else:\n",
    "                    print(\"Hubo un empate.\")\n",
    "        else:\n",
    "            print(\"no ha ganado nadie.\")\n",
    "    else:\n",
    "        print(\"Hector tiene uno o varios valores erroneos.\")\n",
    "else: \n",
    "    print(\"Gloria tiene uno o varios valores erroneos.\")"
   ]
  },
  {
   "cell_type": "markdown",
   "id": "9736bf2b",
   "metadata": {},
   "source": [
    "### Ejercicio 5\n",
    "\n",
    "Escriba un programa que simule el juego Piedra, papel, tijera para dos jugadores (Inés y Juan).\n",
    "\n",
    "Las reglas del juego son las siguientes:\n",
    "- Simultáneamente, los dos jugadores muestran una mano en tres posibles posiciones:\n",
    " - Piedra: se muestra el puño cerrado.\n",
    " - Papel: se muestra la palma de la mano.\n",
    " - Tijera: se muestra la palma de la mano con los dedos separados en dos grupos.\n",
    "- El jugador que ha sacado Piedra gana al jugador que ha sacado Tijera.\n",
    "- El jugador que ha sacado Tijera gana al jugador que ha sacado Papel.\n",
    "- El jugador que ha sacado Papel gana al jugador que ha sacado Piedra.\n",
    "\n",
    "Resuelva este ejercicio utilizando la función random.randrange(), de manera que el valor 1 corresponda a Piedra, el valor 2 corresponda a papel y el valor 3 corresponda a Tijera."
   ]
  },
  {
   "cell_type": "code",
   "execution_count": null,
   "id": "53c7bdb6",
   "metadata": {},
   "outputs": [],
   "source": [
    "import random\n",
    "\n",
    "ines = random.randrange(1,4)\n",
    "juan = random.randrange(1,4)\n",
    "\n",
    "print(\"1 = Piedra \\n2 = Papel \\n3 = Tijera\")\n",
    "print(\"\")\n",
    "print(\"El número para Ines es:\",ines)\n",
    "print(\"El número para juan es:\",juan)\n",
    "\n",
    "if ines == 1:\n",
    "    if juan == 3:\n",
    "        print(\"Ganó Ines.\")\n",
    "    elif juan == 2:\n",
    "        print(\"Ganó Juan.\")\n",
    "    else:\n",
    "        print(\"No hay ganador.\")\n",
    "elif ines == 2:\n",
    "    if juan == 1:\n",
    "        print(\"Ganó Ines.\")\n",
    "    elif juan == 3:\n",
    "        print(\"Ganó Juan.\")\n",
    "    else:\n",
    "        print(\"No hay ganador.\")\n",
    "else:\n",
    "    if juan == 2:\n",
    "        print(\"Ganó Ines.\")\n",
    "    elif juan == 1:\n",
    "        print(\"Ganó Juan.\")\n",
    "    else:\n",
    "        print(\"No hay ganador.\")"
   ]
  },
  {
   "cell_type": "markdown",
   "id": "fed9a0cc",
   "metadata": {},
   "source": [
    "### Ejercicio 6\n",
    "\n",
    "Resuelva el ejercicio anterior utilizando la función random.choice(), de manera que se seleccione un valor entre \"piedra\", \"papel\" y \"tijera\"."
   ]
  },
  {
   "cell_type": "code",
   "execution_count": 28,
   "id": "597fb951",
   "metadata": {},
   "outputs": [
    {
     "name": "stdout",
     "output_type": "stream",
     "text": [
      "Ines sacó : piedra\n",
      "Juan sacó: piedra\n",
      "No hay ganador.\n"
     ]
    }
   ],
   "source": [
    "import random\n",
    "\n",
    "juego = [\"piedra\",\"papel\",\"tijera\"]\n",
    "\n",
    "ines = random.choice(juego)\n",
    "juan = random.choice(juego)\n",
    "\n",
    "print(\"Ines sacó :\",ines)\n",
    "print(\"Juan sacó:\",juan)\n",
    "\n",
    "if ines == \"piedra\":\n",
    "    if juan == \"tijera\":\n",
    "        print(\"Ganó Ines.\")\n",
    "    elif juan == \"papel\":\n",
    "        print(\"Ganó Juan.\")\n",
    "    else:\n",
    "        print(\"No hay ganador.\")\n",
    "elif ines == \"papel\":\n",
    "    if juan == \"piedra\":\n",
    "        print(\"Ganó Ines.\")\n",
    "    elif juan == \"tijera\":\n",
    "        print(\"Ganó Juan.\")\n",
    "    else:\n",
    "        print(\"No hay ganador.\")\n",
    "else:\n",
    "    if juan == \"papel\":\n",
    "        print(\"Ganó Ines.\")\n",
    "    elif juan == \"piedra\":\n",
    "        print(\"Ganó Juan.\")\n",
    "    else:\n",
    "        print(\"No hay ganador.\")"
   ]
  },
  {
   "cell_type": "markdown",
   "id": "e69c88f5",
   "metadata": {},
   "source": [
    "### Ejercicio 6\n",
    "\n",
    "Amplíe el programa anterior para que juegue a Piedra, papel, tijera, lagarto, Spock, una variante inventada por Sam Kass y que se popularizó al aparecer en la serie de television The Big Bang Theory. Esta variante añade dos elementos más, con la ventaja de que no se producen tantos empates, pero obliga a memorizar más combinaciones."
   ]
  },
  {
   "cell_type": "code",
   "execution_count": 41,
   "id": "d1ae7ee0",
   "metadata": {
    "scrolled": true
   },
   "outputs": [
    {
     "name": "stdout",
     "output_type": "stream",
     "text": [
      "Ines sacó : papel\n",
      "Juan sacó: lagarto\n",
      "Ganó Juan.\n"
     ]
    }
   ],
   "source": [
    "import random\n",
    "\n",
    "juego = [\"piedra\",\"papel\",\"tijera\",\"lagarto\",\"spock\"]\n",
    "\n",
    "ines = random.choice(juego)\n",
    "juan = random.choice(juego)\n",
    "\n",
    "print(\"Ines sacó :\",ines)\n",
    "print(\"Juan sacó:\",juan)\n",
    "\n",
    "if ines == \"piedra\":\n",
    "    if juan == \"tijera\" or juan == \"lagarto\":\n",
    "        print(\"Ganó Ines.\")\n",
    "    elif juan == \"papel\" or juan == \"spock\":\n",
    "        print(\"Ganó Juan.\")\n",
    "    else:\n",
    "        print(\"No hay ganador.\")\n",
    "elif ines == \"papel\":\n",
    "    if juan == \"piedra\" or juan == \"spock\":\n",
    "        print(\"Ganó Ines.\")\n",
    "    elif juan == \"tijera\" or juan == \"lagarto\":\n",
    "        print(\"Ganó Juan.\")\n",
    "    else:\n",
    "        print(\"No hay ganador.\")\n",
    "else:\n",
    "    if ines == \"tijera\":\n",
    "        if juan == \"papel\" or juan == \"lagarto\":\n",
    "            print(\"Ganó Ines.\")\n",
    "        elif juan == \"piedra\" or juan == \"spock\":\n",
    "            print(\"Ganó Juan.\")\n",
    "        else:\n",
    "            print(\"No hay ganador.\")\n",
    "    elif ines == \"lagarto\":\n",
    "        if juan == \"papel\" or juan == \"spock\":\n",
    "            print(\"Ganó Ines.\")\n",
    "        elif juan == \"piedra\" or juan == \"tigera\":\n",
    "            print(\"Ganó Juan.\")\n",
    "        else:\n",
    "            print(\"No hay ganador.\")\n",
    "    else:\n",
    "        if juan == \"piedra\" or juan == \"tijera\":\n",
    "            print(\"Ganó Ines.\")\n",
    "        elif juan == \"papel\" or juan == \"lagarto\":\n",
    "            print(\"Ganó Juan.\")\n",
    "        else:\n",
    "            print(\"No hay ganador.\")\n"
   ]
  }
 ],
 "metadata": {
  "kernelspec": {
   "display_name": "Python 3",
   "language": "python",
   "name": "python3"
  },
  "language_info": {
   "codemirror_mode": {
    "name": "ipython",
    "version": 3
   },
   "file_extension": ".py",
   "mimetype": "text/x-python",
   "name": "python",
   "nbconvert_exporter": "python",
   "pygments_lexer": "ipython3",
   "version": "3.8.8"
  }
 },
 "nbformat": 4,
 "nbformat_minor": 5
}
