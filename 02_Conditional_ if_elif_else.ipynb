{
 "cells": [
  {
   "cell_type": "markdown",
   "id": "f854d40f",
   "metadata": {},
   "source": [
    "### Exercise 1\n",
    "\n",
    "Write a code that first asks for an even number and then an odd number (positive or negative). If one or both values are not correct, a single warning will be shown."
   ]
  },
  {
   "cell_type": "code",
   "execution_count": null,
   "id": "06fa7f5b",
   "metadata": {},
   "outputs": [],
   "source": [
    "par = int(input(\"Input an even number: \"))\n",
    "impar = int(input(\"Input an odd number: \"))\n",
    "if (par % 2) == 0 and (impar % 2) == 1:\n",
    "    print(\"Good.\")\n",
    "else:\n",
    "    print(\"One or more of the entered numbers are incorrect.\")"
   ]
  },
  {
   "cell_type": "markdown",
   "id": "93221ed4",
   "metadata": {},
   "source": [
    "### Exercise 2\n",
    "\n",
    "Write a code that first asks for a even number (positive or negative) if value is not correct, show an alert. If the value is correct, asks for a odd number (positive or negative) if the value is not correct, show an alert."
   ]
  },
  {
   "cell_type": "code",
   "execution_count": null,
   "id": "3fde65cb",
   "metadata": {},
   "outputs": [],
   "source": [
    "par = int(input(\"Input an even number: \"))\n",
    "if (par % 2) == 0:\n",
    "    impar = int(input(\"input an odd number: \"))\n",
    "    if (impar % 2) == 1:\n",
    "        print(\"Good.\")\n",
    "    else:\n",
    "        print(\"Alert: The odd number is not correct.\")\n",
    "else:\n",
    "    print(\"Alert: The even number is not correct.\")"
   ]
  },
  {
   "cell_type": "markdown",
   "id": "aa02b70e",
   "metadata": {},
   "source": [
    "### Exercise 3\n",
    "\n",
    "Write a code that first asks for an even number and next to a odd number (positive or negative). In case, one or both value are not correct, show one or two alerts."
   ]
  },
  {
   "cell_type": "code",
   "execution_count": null,
   "id": "aa9a8718",
   "metadata": {},
   "outputs": [],
   "source": [
    "par = int(input(\"Input an even number: \"))\n",
    "impar = int(input(\"Input an odd number: \"))\n",
    "if (par % 2) != 0 or (impar % 2) != 1:\n",
    "    print(\"One or both values are not correct.\")\n",
    "else:\n",
    "    print(\"Good.\")"
   ]
  },
  {
   "cell_type": "markdown",
   "id": "efdf1513",
   "metadata": {},
   "source": [
    "### Exercise 4\n",
    "\n",
    "Write a code that first asks an even number and next asks an odd number (positive or negative). In each request, if the value is not correct, then show you an alert."
   ]
  },
  {
   "cell_type": "code",
   "execution_count": null,
   "id": "aca0c343",
   "metadata": {},
   "outputs": [],
   "source": [
    "par = int(input(\"Input an even number: \"))\n",
    "if (par % 2) == 0:\n",
    "    print(\"Good.\")\n",
    "else:\n",
    "    print(\"The value is incorrect.\")\n",
    "impar = int(input(\"Input an odd number: \"))\n",
    "if (impar % 2) == 1:\n",
    "    print(\"Good.\")\n",
    "else:\n",
    "    print(\"The value is incorrect.\")"
   ]
  },
  {
   "cell_type": "markdown",
   "id": "5e6c42f8",
   "metadata": {},
   "source": []
  }
 ],
 "metadata": {
  "kernelspec": {
   "display_name": "Python 3",
   "language": "python",
   "name": "python3"
  },
  "language_info": {
   "codemirror_mode": {
    "name": "ipython",
    "version": 3
   },
   "file_extension": ".py",
   "mimetype": "text/x-python",
   "name": "python",
   "nbconvert_exporter": "python",
   "pygments_lexer": "ipython3",
   "version": "3.13.5"
  }
 },
 "nbformat": 4,
 "nbformat_minor": 5
}
