{
 "cells": [
  {
   "cell_type": "markdown",
   "id": "31bdd518",
   "metadata": {},
   "source": [
    "### Ejercicio 1\n",
    "\n",
    "Escriba un programa que escriba las siguientes listas\n",
    "\n",
    "Nota: Para cada lista será necesario incluir un print(list(range( ... )))\n",
    "\n",
    "LISTAS FIJAS\n",
    "- [0, 1, 2, 3, 4, 5, 6, 7, 8, 9]\n",
    "- [4, 5, 6, 7, 8, 9, 10]\n",
    "- [-6, -5, -4, -3, -2, -1]\n",
    "- [-56, -55, -54, -53, -52, -51, -50]\n",
    "- [1, 3, 5, 7, 9, 11, 13, 15, 17]\n",
    "- [-6, -4, -2, 0, 2, 4, 6, 8, 10]\n",
    "- [100, 200, 300, 400, 500, 600, 700, 800, 900, 1000]\n",
    "- [10, 9, 8, 7, 6, 5, 4]\n",
    "- [-50, -51, -52, -53, -54, -55, -56]\n",
    "- [17, 15, 13, 11, 9, 7, 5, 3, 1]\n",
    "- [500, 400, 300, 200, 100, 0]"
   ]
  },
  {
   "cell_type": "code",
   "execution_count": 21,
   "id": "1127bdbc",
   "metadata": {},
   "outputs": [
    {
     "name": "stdout",
     "output_type": "stream",
     "text": [
      "[0, 1, 2, 3, 4, 5, 6, 7, 8, 9]\n",
      "[4, 5, 6, 7, 8, 9, 10]\n",
      "[-6, -5, -4, -3, -2, -1]\n",
      "[-56, -55, -54, -53, -52, -51, -50]\n",
      "[1, 3, 5, 7, 9, 11, 13, 15, 17]\n",
      "[-6, -4, -2, 0, 2, 4, 6, 8, 10]\n",
      "[100, 200, 300, 400, 500, 600, 700, 800, 900, 1000]\n",
      "[10, 9, 8, 7, 6, 5, 4]\n",
      "[-50, -51, -52, -53, -54, -55, -56]\n",
      "[17, 15, 13, 11, 9, 7, 5, 3, 1]\n",
      "[500, 400, 300, 200, 100, 0]\n"
     ]
    }
   ],
   "source": [
    "print(list(range(10)))\n",
    "print(list(range(4,11)))\n",
    "print(list(range(-6,0)))\n",
    "print(list(range(-56,-49)))\n",
    "print(list(range(1,18,2)))\n",
    "print(list(range(-6,11,2)))\n",
    "print(list(range(100,1001,100)))\n",
    "print(list(range(10,3,-1)))\n",
    "print(list(range(-50,-57,-1)))\n",
    "print(list(range(17,0,-2)))\n",
    "print(list(range(500,-1,-100)))"
   ]
  },
  {
   "cell_type": "markdown",
   "id": "e2524041",
   "metadata": {},
   "source": [
    "### Ejercicio 2\n",
    "\n",
    "Escriba un programa que pida un número entero mayor que cero y escriba varias listas de números consecutivos. Como indican los ejemplos siguientes: \n",
    "\n",
    "LISTAS A PARTIR DE VALOR\n",
    "Escriba un número entero mayor que 0: 5\n",
    "- [0, 1, 2, 3, 4, 5]\n",
    "- [5, 4, 3, 2, 1, 0]\n",
    "- [1, 2, 3, 4]\n",
    "- [4, 3, 2, 1]\n",
    "- [0, 1, 2, 3, 4, 5, 4, 3, 2, 1, 0]"
   ]
  },
  {
   "cell_type": "code",
   "execution_count": 4,
   "id": "e63ebadc",
   "metadata": {},
   "outputs": [
    {
     "name": "stdout",
     "output_type": "stream",
     "text": [
      "Ingrese un número entero mayor que 0: -5\n",
      "Número invalido.\n"
     ]
    }
   ],
   "source": [
    "n = 0\n",
    "n = int(input(\"Ingrese un número entero mayor que 0: \"))\n",
    "\n",
    "if n > 0:\n",
    "    print(list(range(n+1)))\n",
    "    print(list(range(n,-1,-1)))\n",
    "    print(list(range(1,n)))\n",
    "    print(list(range(n-1,0,-1)))\n",
    "    print(list(range(n+1))+list(range(n-1,-1,-1)))\n",
    "else:\n",
    "    print(\"Número invalido.\")"
   ]
  },
  {
   "cell_type": "markdown",
   "id": "f18a1755",
   "metadata": {},
   "source": [
    "### Ejercicio 3\n",
    "\n",
    "Escriba un programa que pida un número entero y escriba una lista de números consecutivos del 0 al valor dado."
   ]
  },
  {
   "cell_type": "code",
   "execution_count": 9,
   "id": "de12bdfe",
   "metadata": {},
   "outputs": [
    {
     "name": "stdout",
     "output_type": "stream",
     "text": [
      "Ingrese un número entero: -5\n",
      "[0, -1, -2, -3, -4, -5]\n"
     ]
    }
   ],
   "source": [
    "n = 0\n",
    "n = int(input(\"Ingrese un número entero: \"))\n",
    "\n",
    "if n > 0:\n",
    "    print(list(range(0,n+1)))\n",
    "elif n < 0:\n",
    "    print(list(range(0,n-1,-1)))\n",
    "else:\n",
    "    print(0)\n",
    "    "
   ]
  },
  {
   "cell_type": "markdown",
   "id": "766acf9d",
   "metadata": {},
   "source": [
    "### Ejercicio 4\n",
    "\n",
    "Escriba un programa que pida dos números enteros (el segundo mayor que el primero) y escriba varias listas de números consecutivos. Como indica el siguiente ejemplo:\n",
    "\n",
    "- LISTAS ENTRE DOS NÚMEROS\n",
    " - Escriba un número entero: 5\n",
    " - Escriba otro número entero mayor que 5: 11\n",
    " - [5, 6, 7, 8, 9, 10, 11]\n",
    " - [10, 9, 8, 7, 6, 5]\n",
    " - [6, 7, 8, 9, 10, 11, 12]\n",
    " - [10, 9, 8, 7, 6]\n",
    " - [5, 6, 7, 8, 9, 10, 11, 10, 9, 8, 7, 6, 5]"
   ]
  },
  {
   "cell_type": "code",
   "execution_count": 16,
   "id": "f3892bdf",
   "metadata": {},
   "outputs": [
    {
     "name": "stdout",
     "output_type": "stream",
     "text": [
      "Ingrese un número: 5\n",
      "Ingrese un número mayor que el anterior: 11\n",
      "[5, 6, 7, 8, 9, 10, 11]\n",
      "[10, 9, 8, 7, 6, 5]\n",
      "[6, 7, 8, 9, 10, 11, 12]\n",
      "[10, 9, 8, 7, 6]\n",
      "[5, 6, 7, 8, 9, 10, 11, 10, 9, 8, 7, 6, 5]\n"
     ]
    }
   ],
   "source": [
    "n1 = 0\n",
    "n2 = 0\n",
    "\n",
    "n1 = int(input(\"Ingrese un número: \"))\n",
    "n2 = int(input(\"Ingrese un número mayor que el anterior: \"))\n",
    "\n",
    "if n1 < n2:\n",
    "    print(list(range(n1,n2+1)))\n",
    "    print(list(range(n2-1,n1-1,-1)))\n",
    "    print(list(range(n1+1,n2+2)))\n",
    "    print(list(range(n2-1,n1,-1)))\n",
    "    print(list(range(n1,n2+1)) + list(range(n2-1,n1-1,-1)))\n",
    "else:\n",
    "    print(n2,\"no es mayor que\",n1,\".\")"
   ]
  },
  {
   "cell_type": "markdown",
   "id": "3af5190f",
   "metadata": {},
   "source": [
    "### Ejercicio 5\n",
    "\n",
    "Escriba un programa que pida dos números enteros y escriba la lista de números consecutivos de uno a otro, en orden creciente o decreciente."
   ]
  },
  {
   "cell_type": "code",
   "execution_count": 23,
   "id": "6ea39892",
   "metadata": {},
   "outputs": [
    {
     "name": "stdout",
     "output_type": "stream",
     "text": [
      "Ingrese un número: 11\n",
      "Ingrese otro número: 5\n",
      "[11, 10, 9, 8, 7, 6, 5]\n"
     ]
    }
   ],
   "source": [
    "n1 = 0\n",
    "n2 = 0\n",
    "\n",
    "n1 = int(input(\"Ingrese un número: \"))\n",
    "n2 = int(input(\"Ingrese otro número: \"))\n",
    "\n",
    "if n1 < n2:\n",
    "    print(list(range(n1,n2+1)))\n",
    "elif n1 > n2:\n",
    "    print(list(range(n1,n2-1,-1)))\n",
    "else:\n",
    "    print(n1)"
   ]
  },
  {
   "cell_type": "markdown",
   "id": "5126b728",
   "metadata": {},
   "source": [
    "### Ejercicio 6\n",
    "\n",
    "Escriba un programa que pida dos números enteros y escriba la lista de números consecutivos que hay entre ellos, de menor a mayor."
   ]
  },
  {
   "cell_type": "code",
   "execution_count": 28,
   "id": "d472c890",
   "metadata": {},
   "outputs": [
    {
     "name": "stdout",
     "output_type": "stream",
     "text": [
      "Ingrese un número: -3\n",
      "Ingrese otro número: 5\n",
      "[-2, -1, 0, 1, 2, 3, 4]\n"
     ]
    }
   ],
   "source": [
    "n1 = 0\n",
    "n2 = 0\n",
    "\n",
    "n1 = int(input(\"Ingrese un número: \"))\n",
    "n2 = int(input(\"Ingrese otro número: \"))\n",
    "\n",
    "if n1 < n2:\n",
    "    print(list(range(n1+1,n2)))\n",
    "elif n1 > n2:\n",
    "    print(list(range(n2+1,n1)))\n",
    "else:\n",
    "    print(n1)"
   ]
  },
  {
   "cell_type": "markdown",
   "id": "a7412029",
   "metadata": {},
   "source": [
    "### Ejercicio 7\n",
    "\n",
    "Escriba un programa que pida dos números enteros m y n y escriba una lista de n números consecutivos a partir de m."
   ]
  },
  {
   "cell_type": "code",
   "execution_count": 44,
   "id": "745f3b96",
   "metadata": {},
   "outputs": [
    {
     "name": "stdout",
     "output_type": "stream",
     "text": [
      "Ingrese el número entero inicial: 4\n",
      "Cuántos valores quiere: 0\n",
      "[]\n"
     ]
    }
   ],
   "source": [
    "m = 0\n",
    "n = 0\n",
    "\n",
    "m = int(input(\"Ingrese el número entero inicial: \"))\n",
    "n = int(input(\"Cuántos valores quiere: \"))\n",
    "\n",
    "if m > 0:\n",
    "    print(list(range(m,m+n)))\n",
    "elif m < 0:\n",
    "    print(\"El número no puede ser negativo.\")\n",
    "else:\n",
    "    print(list(range(m,m+n)))"
   ]
  },
  {
   "cell_type": "markdown",
   "id": "3ec23527",
   "metadata": {},
   "source": [
    "### Ejercicio 8\n",
    "\n",
    "Escriba un programa que pida dos números enteros y escriba la lista de números pares que hay entre ellos (incluidos ellos mismos si son pares).."
   ]
  },
  {
   "cell_type": "code",
   "execution_count": 65,
   "id": "25365911",
   "metadata": {},
   "outputs": [
    {
     "name": "stdout",
     "output_type": "stream",
     "text": [
      "Ingrese un número: 3\n",
      "Ingrese otro número: 8\n",
      "[4, 6, 8]\n"
     ]
    }
   ],
   "source": [
    "n1 = 0\n",
    "n2 = 0\n",
    "\n",
    "n1 = int(input(\"Ingrese un número: \"))\n",
    "n2 = int(input(\"Ingrese otro número: \"))\n",
    "\n",
    "if n1 % 2 == 0 and n2 % 2 == 0:       # Ambos son pares\n",
    "    print(list(range(n1,n2+2,2)))\n",
    "elif n1 % 2 == 1 and n2 % 2 == 1:     # Ambos son impares \n",
    "    print(list(range(n1+1,n2+1,2)))\n",
    "else:\n",
    "    if n1 % 2 == 0 and n2 % 2 == 1:   # n1 par y n2 impar\n",
    "        print(list(range(n1,n2+1,2)))\n",
    "    else:                             # n1 impar y n2 impar \n",
    "        print(list(range(n1+1,n2+1,2)))"
   ]
  },
  {
   "cell_type": "markdown",
   "id": "77fdda0f",
   "metadata": {},
   "source": [
    "### Ejercicio 9\n",
    "\n",
    "Escriba un programa que pida tres números enteros y escriba la lista de números múltiplos del tercero que hay entre los dos primeros (incluidos ellos mismos si son múltiplos del número indicado):"
   ]
  },
  {
   "cell_type": "code",
   "execution_count": 166,
   "id": "a983b0f8",
   "metadata": {},
   "outputs": [
    {
     "name": "stdout",
     "output_type": "stream",
     "text": [
      "Ingrese el número entero inicial: 9\n",
      "Ingrese el número entero final: 18\n",
      "¿De qué número quiere los multiplos?: 3\n",
      "\n",
      "entre 9 y 18 hay 4 múltiplos de 3\n",
      "[9, 12, 15, 18]\n"
     ]
    }
   ],
   "source": [
    "ni = 0\n",
    "nf = 0\n",
    "n = 0\n",
    "b = 0\n",
    "c = []\n",
    "\n",
    "# nf > ni\n",
    "# n > 0 entero\n",
    "# n > nf\n",
    "\n",
    "ni = int(input(\"Ingrese el número entero inicial: \"))\n",
    "nf = int(input(\"Ingrese el número entero final: \"))\n",
    "\n",
    "if ni < nf:\n",
    "    n = int(input(\"¿De qué número quiere los multiplos?: \"))\n",
    "    if n > 0:\n",
    "        b =list(range(ni,nf+1))\n",
    "        for num in b:\n",
    "            if num % n == 0:\n",
    "                c.append(num)\n",
    "        print(\"\")\n",
    "        print(\"entre \"+str(ni)+\" y \"+str(nf)+\" hay \"+str(len(c))+\" múltiplos de \"+str(n))\n",
    "        print(c)\n",
    "    else:\n",
    "        print(\"Ingrese un número entero mayor a 0.\")\n",
    "else:\n",
    "    print(\"El número final debe ser mayor al número inicial.\")"
   ]
  }
 ],
 "metadata": {
  "kernelspec": {
   "display_name": "Python 3",
   "language": "python",
   "name": "python3"
  },
  "language_info": {
   "codemirror_mode": {
    "name": "ipython",
    "version": 3
   },
   "file_extension": ".py",
   "mimetype": "text/x-python",
   "name": "python",
   "nbconvert_exporter": "python",
   "pygments_lexer": "ipython3",
   "version": "3.8.8"
  }
 },
 "nbformat": 4,
 "nbformat_minor": 5
}
