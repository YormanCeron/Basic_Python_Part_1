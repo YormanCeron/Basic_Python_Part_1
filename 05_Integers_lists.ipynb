{
 "cells": [
  {
   "cell_type": "markdown",
   "id": "31bdd518",
   "metadata": {},
   "source": [
    "### Exercise 1\n",
    "\n",
    "Write a code that write th nexts lists:\n",
    "\n",
    "Note: use the funtion range()\n",
    "\n",
    "- [0, 1, 2, 3, 4, 5, 6, 7, 8, 9]\n",
    "- [4, 5, 6, 7, 8, 9, 10]\n",
    "- [-6, -5, -4, -3, -2, -1]\n",
    "- [-56, -55, -54, -53, -52, -51, -50]\n",
    "- [1, 3, 5, 7, 9, 11, 13, 15, 17]\n",
    "- [-6, -4, -2, 0, 2, 4, 6, 8, 10]\n",
    "- [100, 200, 300, 400, 500, 600, 700, 800, 900, 1000]\n",
    "- [10, 9, 8, 7, 6, 5, 4]\n",
    "- [-50, -51, -52, -53, -54, -55, -56]\n",
    "- [17, 15, 13, 11, 9, 7, 5, 3, 1]\n",
    "- [500, 400, 300, 200, 100, 0]"
   ]
  },
  {
   "cell_type": "code",
   "execution_count": null,
   "id": "1127bdbc",
   "metadata": {},
   "outputs": [],
   "source": [
    "print(list(range(10)))\n",
    "print(list(range(4,11)))\n",
    "print(list(range(-6,0)))\n",
    "print(list(range(-56,-49)))\n",
    "print(list(range(1,18,2)))\n",
    "print(list(range(-6,11,2)))\n",
    "print(list(range(100,1001,100)))\n",
    "print(list(range(10,3,-1)))\n",
    "print(list(range(-50,-57,-1)))\n",
    "print(list(range(17,0,-2)))\n",
    "print(list(range(500,-1,-100)))"
   ]
  },
  {
   "cell_type": "markdown",
   "id": "e2524041",
   "metadata": {},
   "source": [
    "### Exercise 2\n",
    "\n",
    "Write a code that asks for an integer number greater than zero and write some list of consecutive numbers. As the examples:\n",
    "\n",
    "Input an integer number greater than zero: 5\n",
    "- [0, 1, 2, 3, 4, 5]\n",
    "- [5, 4, 3, 2, 1, 0]\n",
    "- [1, 2, 3, 4]\n",
    "- [4, 3, 2, 1]\n",
    "- [0, 1, 2, 3, 4, 5, 4, 3, 2, 1, 0]"
   ]
  },
  {
   "cell_type": "code",
   "execution_count": null,
   "id": "e63ebadc",
   "metadata": {},
   "outputs": [],
   "source": [
    "n = 0\n",
    "n = int(input(\"Input an integer number greater than zero: \"))\n",
    "\n",
    "if n > 0:\n",
    "    print(list(range(n+1)))\n",
    "    print(list(range(n,-1,-1)))\n",
    "    print(list(range(1,n)))\n",
    "    print(list(range(n-1,0,-1)))\n",
    "    print(list(range(n+1))+list(range(n-1,-1,-1)))\n",
    "else:\n",
    "    print(\"Wrong value.\")"
   ]
  },
  {
   "cell_type": "markdown",
   "id": "f18a1755",
   "metadata": {},
   "source": [
    "### Exercise 3\n",
    "\n",
    "Write a code that asks an integer number and write a list of consecutive numbers from 0 to the number writter"
   ]
  },
  {
   "cell_type": "code",
   "execution_count": null,
   "id": "de12bdfe",
   "metadata": {},
   "outputs": [],
   "source": [
    "n = 0\n",
    "n = int(input(\"Input an integer number: \"))\n",
    "\n",
    "if n > 0:\n",
    "    print(list(range(0,n+1)))\n",
    "elif n < 0:\n",
    "    print(list(range(0,n-1,-1)))\n",
    "else:\n",
    "    print(0)\n",
    "    "
   ]
  },
  {
   "cell_type": "markdown",
   "id": "766acf9d",
   "metadata": {},
   "source": [
    "### Exercise 4\n",
    "\n",
    "Write a code that asks two integer numbers (The second greater than first) and write some list of conssecutive numbers. As the example:\n",
    "\n",
    " - Input an integer number: 5\n",
    " - input another integer number greater than previus: 11\n",
    " - [5, 6, 7, 8, 9, 10, 11]\n",
    " - [10, 9, 8, 7, 6, 5]\n",
    " - [6, 7, 8, 9, 10, 11, 12]\n",
    " - [10, 9, 8, 7, 6]\n",
    " - [5, 6, 7, 8, 9, 10, 11, 10, 9, 8, 7, 6, 5]"
   ]
  },
  {
   "cell_type": "code",
   "execution_count": null,
   "id": "f3892bdf",
   "metadata": {},
   "outputs": [],
   "source": [
    "n1 = 0\n",
    "n2 = 0\n",
    "\n",
    "n1 = int(input(\"Input an integer number: \"))\n",
    "n2 = int(input(\"input a number greater than the previous one: \"))\n",
    "\n",
    "if n1 < n2:\n",
    "    print(list(range(n1,n2+1)))\n",
    "    print(list(range(n2-1,n1-1,-1)))\n",
    "    print(list(range(n1+1,n2+2)))\n",
    "    print(list(range(n2-1,n1,-1)))\n",
    "    print(list(range(n1,n2+1)) + list(range(n2-1,n1-1,-1)))\n",
    "else:\n",
    "    print(n2,\"no es mayor que\",n1,\".\")"
   ]
  },
  {
   "cell_type": "markdown",
   "id": "3af5190f",
   "metadata": {},
   "source": [
    "### Exersice 5\n",
    "\n",
    "Write a program that asks for two integers and outputs the list of consecutive numbers from one to the other, in either ascending or descending order."
   ]
  },
  {
   "cell_type": "code",
   "execution_count": null,
   "id": "6ea39892",
   "metadata": {},
   "outputs": [],
   "source": [
    "n1 = 0\n",
    "n2 = 0\n",
    "\n",
    "n1 = int(input(\"Input a number: \"))\n",
    "n2 = int(input(\"Input another number: \"))\n",
    "\n",
    "if n1 < n2:\n",
    "    print(list(range(n1,n2+1)))\n",
    "elif n1 > n2:\n",
    "    print(list(range(n1,n2-1,-1)))\n",
    "else:\n",
    "    print(n1)"
   ]
  },
  {
   "cell_type": "markdown",
   "id": "5126b728",
   "metadata": {},
   "source": [
    "### Exercise 6\n",
    "\n",
    "Write a program that asks for two integers and outputs the list of consecutive numbers between them, from smallest to largest."
   ]
  },
  {
   "cell_type": "code",
   "execution_count": null,
   "id": "d472c890",
   "metadata": {},
   "outputs": [],
   "source": [
    "n1 = 0\n",
    "n2 = 0\n",
    "\n",
    "n1 = int(input(\"Input a number: \"))\n",
    "n2 = int(input(\"Input another number: \"))\n",
    "\n",
    "if n1 < n2:\n",
    "    print(list(range(n1+1,n2)))\n",
    "elif n1 > n2:\n",
    "    print(list(range(n2+1,n1)))\n",
    "else:\n",
    "    print(n1)"
   ]
  },
  {
   "cell_type": "markdown",
   "id": "a7412029",
   "metadata": {},
   "source": [
    "### Exercise 7\n",
    "\n",
    "Write a program that asks for two integers m and n and outputs a list of n consecutive numbers starting from m."
   ]
  },
  {
   "cell_type": "code",
   "execution_count": null,
   "id": "745f3b96",
   "metadata": {},
   "outputs": [],
   "source": [
    "m = 0\n",
    "n = 0\n",
    "\n",
    "m = int(input(\"Input the starting integer: \"))\n",
    "n = int(input(\"How many values do you want?: \"))\n",
    "\n",
    "if m > 0:\n",
    "    print(list(range(m,m+n)))\n",
    "elif m < 0:\n",
    "    print(\"The value can not to be negative.\")\n",
    "else:\n",
    "    print(list(range(m,m+n)))"
   ]
  },
  {
   "cell_type": "markdown",
   "id": "3ec23527",
   "metadata": {},
   "source": [
    "### Exercise 8\n",
    "\n",
    "Write a program that asks for two integers and outputs the list of even numbers between them (including them if they are even)."
   ]
  },
  {
   "cell_type": "code",
   "execution_count": null,
   "id": "25365911",
   "metadata": {},
   "outputs": [],
   "source": [
    "n1 = 0\n",
    "n2 = 0\n",
    "\n",
    "n1 = int(input(\"Input a number: \"))\n",
    "n2 = int(input(\"Input another number: \"))\n",
    "\n",
    "if n1 % 2 == 0 and n2 % 2 == 0:       # both are even\n",
    "    print(list(range(n1,n2+2,2)))\n",
    "elif n1 % 2 == 1 and n2 % 2 == 1:     # both are odd \n",
    "    print(list(range(n1+1,n2+1,2)))\n",
    "else:\n",
    "    if n1 % 2 == 0 and n2 % 2 == 1:   # n1 even y n2 odd\n",
    "        print(list(range(n1,n2+1,2)))\n",
    "    else:                             # n1 odd y n2 even\n",
    "        print(list(range(n1+1,n2+1,2)))"
   ]
  },
  {
   "cell_type": "markdown",
   "id": "77fdda0f",
   "metadata": {},
   "source": [
    "### Exersice 9\n",
    "\n",
    "Write a program that asks for three integers and outputs the list of numbers that are multiples of the third one between the first two (including them if they are multiples of the given number):"
   ]
  },
  {
   "cell_type": "code",
   "execution_count": null,
   "id": "a983b0f8",
   "metadata": {},
   "outputs": [],
   "source": [
    "ni = 0\n",
    "nf = 0\n",
    "n = 0\n",
    "b = 0\n",
    "c = []\n",
    "\n",
    "# nf > ni\n",
    "# n > 0 integer\n",
    "# n > nf\n",
    "\n",
    "ni = int(input(\"Input the starting integer: \"))\n",
    "nf = int(input(\"Input the ending integer: \"))\n",
    "\n",
    "if ni < nf:\n",
    "    n = int(input(\"Multiples of which number do you want? \"))\n",
    "    if n > 0:\n",
    "        b =list(range(ni,nf+1))\n",
    "        for num in b:\n",
    "            if num % n == 0:\n",
    "                c.append(num)\n",
    "        print(\"\")\n",
    "        print(\"between \"+str(ni)+\" and \"+str(nf)+\" there are \"+str(len(c))+\" multiples of \"+str(n))\n",
    "        print(c)\n",
    "    else:\n",
    "        print(\"Input an integer greater than zero.\")\n",
    "else:\n",
    "    print(\"The ending number must be greater than starting number\")"
   ]
  }
 ],
 "metadata": {
  "kernelspec": {
   "display_name": "Python 3",
   "language": "python",
   "name": "python3"
  },
  "language_info": {
   "codemirror_mode": {
    "name": "ipython",
    "version": 3
   },
   "file_extension": ".py",
   "mimetype": "text/x-python",
   "name": "python",
   "nbconvert_exporter": "python",
   "pygments_lexer": "ipython3",
   "version": "3.8.8"
  }
 },
 "nbformat": 4,
 "nbformat_minor": 5
}
