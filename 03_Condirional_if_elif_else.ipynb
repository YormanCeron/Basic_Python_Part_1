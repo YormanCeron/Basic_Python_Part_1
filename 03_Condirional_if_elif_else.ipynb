{
 "cells": [
  {
   "cell_type": "markdown",
   "id": "885f1dba",
   "metadata": {},
   "source": [
    "### Exercise 1\n",
    "\n",
    "Write a code that asks for two integer numbers and calculates their division, stating whether the division is exact or not"
   ]
  },
  {
   "cell_type": "code",
   "execution_count": null,
   "id": "ef849f2a",
   "metadata": {},
   "outputs": [],
   "source": [
    "n1 = int(input(\"Input a first integer number: \"))\n",
    "n2 = int(input(\"input a second integer number: \"))\n",
    "div = n1%n2\n",
    "if div == 0:\n",
    "    print(\"The division is exact.\")\n",
    "else: \n",
    "    print(\"The division is not exact.\")"
   ]
  },
  {
   "cell_type": "markdown",
   "id": "9944e97e",
   "metadata": {},
   "source": [
    "### Exersice 2 \n",
    "\n",
    "Improve the previous program by taking into account that division by zero is not possible:"
   ]
  },
  {
   "cell_type": "code",
   "execution_count": null,
   "id": "88d0b9e2",
   "metadata": {},
   "outputs": [],
   "source": [
    "n1 = int(input(\"Input a first integer number: \"))\n",
    "n2 = int(input(\"input a second integer number: \"))\n",
    "if n2 != 0:\n",
    "    div = n1%n2\n",
    "    if div == 0:\n",
    "        print(\"The division is exact.\")\n",
    "    else: \n",
    "        print(\"The division is not exact.\")\n",
    "else:\n",
    "    print(\"Division by 0 is not possible.\")"
   ]
  },
  {
   "cell_type": "markdown",
   "id": "2c92783f",
   "metadata": {},
   "source": [
    "### Exercise 3\n",
    "\n",
    "Write a code that asks for two numbers and responds which of them is the smaller and which is the larger or states that they are aqual."
   ]
  },
  {
   "cell_type": "code",
   "execution_count": null,
   "id": "a551f8bc",
   "metadata": {},
   "outputs": [],
   "source": [
    "n1 = int(input(\"Input a first integer number: \"))\n",
    "n2 = int(input(\"input a second integer number: \"))\n",
    "if n1 > n2:\n",
    "    print(n1,\"is greater than \",n2)\n",
    "elif n1 < n2:\n",
    "    print(n2,\"is greater than \",n1)\n",
    "else:\n",
    "    print(\"Both values are equal.\")"
   ]
  },
  {
   "cell_type": "markdown",
   "id": "bd47dff5",
   "metadata": {},
   "source": [
    "### Exercise 4\n",
    "\n",
    "Write a program that asks for the current year and any year, and that tells how many years have passed since that year or how many years are left to reach that year."
   ]
  },
  {
   "cell_type": "code",
   "execution_count": null,
   "id": "5ebba863",
   "metadata": {},
   "outputs": [],
   "source": [
    "año_actual = int(input(\"Input the current year: \"))\n",
    "año_x = int(input(\"Input any year: \"))\n",
    "if año_actual > año_x:\n",
    "    resta = año_actual - año_x\n",
    "    print(resta,\"years have passed since\",año_x)\n",
    "elif año_actual < año_x:\n",
    "    resta = año_x - año_actual\n",
    "    print(\"It is\",resta,\"years until the year\",año_x)\n",
    "else:\n",
    "    print(\"the values are incorrects or the values are equal.\")"
   ]
  },
  {
   "cell_type": "markdown",
   "id": "5531196e",
   "metadata": {},
   "source": [
    "### Exercise 5\n",
    "\n",
    "Improve the previous program so that when the difference is exactly one year, it writes the phrase in singular:"
   ]
  },
  {
   "cell_type": "code",
   "execution_count": null,
   "id": "dacc371c",
   "metadata": {},
   "outputs": [],
   "source": [
    "año_actual = int(input(\"input the current year: \"))\n",
    "año_x = int(input(\"Input any year: \"))\n",
    "if año_actual > año_x:\n",
    "    resta = año_actual - año_x\n",
    "    if resta == 1:\n",
    "        print(resta,\"years have passed since\",año_x)\n",
    "    else:\n",
    "        print(resta,\"years have passed since\",año_x)\n",
    "elif año_actual < año_x:\n",
    "    resta = año_x - año_actual\n",
    "    if resta ==1:\n",
    "        print(\"it is\",resta,\"years until the year\",año_x)\n",
    "    else:\n",
    "        print(\"it is\",resta,\"years until the year\",año_x)\n",
    "else:\n",
    "    print(\"the values are incorrects or the values are equal.\")"
   ]
  },
  {
   "cell_type": "markdown",
   "id": "de24bcfb",
   "metadata": {},
   "source": [
    "### Exercise 6\n",
    "\n",
    "Write a program that asks for two integers and outputs whether the greater one is a multiple of the smaller one."
   ]
  },
  {
   "cell_type": "code",
   "execution_count": null,
   "id": "5a771f27",
   "metadata": {},
   "outputs": [],
   "source": [
    "num_1 = int(input(\"Input an integer number: \"))\n",
    "num_2 = int(input(\"Input another integer number: \"))\n",
    "if num_1 > num_2:\n",
    "    resto = num_1 % num_2\n",
    "    if resto == 0:\n",
    "        print(num_1,\"is multiple of\",num_2)\n",
    "    else:\n",
    "        print(num_1,\"is not multiple of\",num_2)\n",
    "elif num_1 < num_2:\n",
    "    resto = num_2 % num_1\n",
    "    if resto == 0:\n",
    "        print(num_2,\"is multiple of\",num_1)\n",
    "    else:\n",
    "        print(num_2,\"is not multiple of\",num_1)\n",
    "else:\n",
    "    print(\"The values are equals.\")"
   ]
  },
  {
   "cell_type": "markdown",
   "id": "6d58155e",
   "metadata": {},
   "source": [
    "### Exercise 7\n",
    "\n",
    "Improve the previous program so that it notifies the user when negative or zero values are entered."
   ]
  },
  {
   "cell_type": "code",
   "execution_count": null,
   "id": "72cc36cc",
   "metadata": {},
   "outputs": [],
   "source": [
    "num_1 = int(input(\"Input an integer number: \"))\n",
    "num_2 = int(input(\"Input another integer number: \"))\n",
    "if num_1 > 0 and num_2 > 0:\n",
    "    if num_1 > num_2:\n",
    "        resto = num_1 % num_2\n",
    "        if resto == 0:\n",
    "            print(num_1,\"is multiple of\",num_2)\n",
    "        else:\n",
    "            print(num_1,\"is not multiple of\",num_2)\n",
    "    elif num_1 < num_2:\n",
    "        resto = num_2 % num_1\n",
    "        if resto == 0:\n",
    "            print(num_2,\"is multiple of\",num_1)\n",
    "        else:\n",
    "            print(num_2,\"is not multiple of\",num_1)\n",
    "    else:\n",
    "        print(\"The values are equals.\")\n",
    "else:\n",
    "    print(\"Input values greater than zero.\")"
   ]
  },
  {
   "cell_type": "markdown",
   "id": "30da64d8",
   "metadata": {},
   "source": [
    "### Exercise 8\n",
    "\n",
    "Write a program that asks for three numbers and outputs whether all three are equal, two of them are equal, or all three are different."
   ]
  },
  {
   "cell_type": "code",
   "execution_count": null,
   "id": "5500e1fc",
   "metadata": {},
   "outputs": [],
   "source": [
    "num_1 = int(input(\"Input an integer number: \"))\n",
    "num_2 = int(input(\"Input another integer number: \"))\n",
    "num_3 =int(input(\"Input another integer number: \"))\n",
    "if num_1 == num_2 == num_3:\n",
    "    print(\"Every values are equals.\")\n",
    "else:\n",
    "    if num_1 != num_2 != num_3 and num_1 != num_3:\n",
    "        print(\"Every values are not equals.\")\n",
    "    else:\n",
    "        print(\"There are two values equals and one not.\")"
   ]
  },
  {
   "cell_type": "markdown",
   "id": "174d4b12",
   "metadata": {},
   "source": [
    "### Exercise 9\n",
    "\n",
    "Write a program that asks for a year and outputs whether it is a leap year or not.\n",
    "\n",
    "Remember that leap years are multiples of 4, but multiples of 100 are not, except for multiples of 400, which are."
   ]
  },
  {
   "cell_type": "code",
   "execution_count": null,
   "id": "380db915",
   "metadata": {},
   "outputs": [],
   "source": [
    "año = int(input(\"Input a year: \"))\n",
    "r_4 = año % 4\n",
    "r_100 = año % 100\n",
    "r_400 = año % 400\n",
    "if r_100 == 0 and r_400 == 0:\n",
    "    print(\"The year\",año,\"is a leap year.\")\n",
    "elif r_100 == 0 and r_400 != 0:\n",
    "    print(\"The year\",año,\"is not a leap year.\")\n",
    "else:\n",
    "    if r_4 == 0:\n",
    "        print(\"The year\",año,\"is a leap year.\")\n",
    "    else:\n",
    "        print(\"The year\",año,\"is not a leap year.\")"
   ]
  },
  {
   "cell_type": "markdown",
   "id": "faeec094",
   "metadata": {},
   "source": [
    "### Exercise 10\n",
    "\n",
    "Write a program that asks for the coefficients of a first-degree equation (a x + b = 0) and outputs the solution.\n",
    "\n",
    "Remember that a first-degree equation may have no solution, a unique solution, or all numbers as solutions. Recall that the formula for the solution is x = -b / a."
   ]
  },
  {
   "cell_type": "code",
   "execution_count": null,
   "id": "e894cd08",
   "metadata": {},
   "outputs": [],
   "source": [
    "a = float(input(\"Input the coefficient a: \"))\n",
    "b = float(input(\"Input the coefficient b: \"))\n",
    "if a == 0 and b == 0:\n",
    "    print(\"Any value is solution.\")\n",
    "elif a == 0 and b != 0:\n",
    "    print(\"The equation has not solution.\")\n",
    "else:\n",
    "    x = -b / a\n",
    "    print(\"The solution is :\",x,\".\")"
   ]
  },
  {
   "cell_type": "markdown",
   "id": "2d1ab3f9",
   "metadata": {},
   "source": [
    "### Exercise 11\n",
    "\n",
    "Write a program that asks for the coefficients of a second-degree equation (a x² + b x + c = 0) and outputs the solution.\n",
    "\n",
    "Remember that a second-degree equation may have no solution, a unique solution, two solutions, or all numbers as solutions. Recall that the formula for the solutions when there are two of them is x = (-b ± √(b² - 4ac)) / (2a)."
   ]
  },
  {
   "cell_type": "code",
   "execution_count": null,
   "id": "d05eac8a",
   "metadata": {},
   "outputs": [],
   "source": [
    "a = float(input(\"Input the coefficient a: \"))\n",
    "b = float(input(\"Input the coefficient b: \"))\n",
    "c = float(input(\"Input the coefficient c: \"))\n",
    "\n",
    "disc = (b**2) - (4*a*c)\n",
    "\n",
    "if disc > 0:\n",
    "    if a != 0:\n",
    "        x1 = ((-b+((b**2)-(4*a*c))**0.5)/(2*a))\n",
    "        x2 = ((-b-((b**2)-(4*a*c))**0.5)/(2*a))\n",
    "        print(\"The solutions for the equation are: \",x1,\"y\",x2,\".\")\n",
    "    else:\n",
    "        x = -c / b\n",
    "        print(\"The equation has unique solution and is: \",x)\n",
    "elif disc == 0:\n",
    "    if a != 0:\n",
    "        x1 = ((-b-((b**2)-(4*a*c))**0.5)/(2*a))\n",
    "        print(\"The equation has unique solution and is: \",x1)\n",
    "    elif c == 0 and b == 0:\n",
    "        print(\"Every values are solution.\")\n",
    "    else:\n",
    "        print(\"The equation has not real solution.\")\n",
    "else:\n",
    "    print(\"The equation has not real solution.\")"
   ]
  },
  {
   "cell_type": "markdown",
   "id": "f4770c2c",
   "metadata": {},
   "source": [
    "### Exercise 12\n",
    "\n",
    "Write a program that first asks whether you want to calculate the area of a triangle or a circle. If the answer is to calculate the area of a triangle (by typing T or t), the program should then ask for the base and the height and output the area. If the answer is to calculate the area of a circle (by typing C or c), the program should then ask for the radius and output the area.\n",
    "\n",
    "Remember that the area of a triangle is base times height divided by 2, and that the area of a circle is Pi (approximately 3.141592) times the radius squared.\n",
    "\n",
    "#### Note: Use 3.141592 as the value of pi."
   ]
  },
  {
   "cell_type": "code",
   "execution_count": null,
   "id": "ad7afe84",
   "metadata": {},
   "outputs": [],
   "source": [
    "preg = \"\"\n",
    "base = 0\n",
    "altura = 0\n",
    "area = 0\n",
    "radio = 0\n",
    "\n",
    "print(\"Do you want to calculate the area of a triangle or a circle?\")\n",
    "preg = str(input(\"Type T or t for a triangle, and C or c for a circle:\"))\n",
    "if preg == \"T\" or preg == \"t\":\n",
    "    base = float(input(\"Input the value os the base: \"))\n",
    "    altura = float(input(\"Input the value of the hight: \"))\n",
    "    area = (base * altura)/2\n",
    "    print(\"The area of the triangle is: \",area)\n",
    "elif preg == \"C\" or preg ==\"c\":\n",
    "    radio = float(input(\"Input the value of the radio: \"))\n",
    "    area = 3.141592 * radio**2\n",
    "    print(\"The area of the circle is:: \",area)\n",
    "else:\n",
    "    print(\"Answer wrong.\")"
   ]
  },
  {
   "cell_type": "markdown",
   "id": "d29f3e19",
   "metadata": {},
   "source": [
    "### Exercise 13\n",
    "\n",
    "Write a program that asks for a distance in centimeters and outputs that distance in kilometers, meters, and centimeters (writing all the units)."
   ]
  },
  {
   "cell_type": "code",
   "execution_count": null,
   "id": "72c2627e",
   "metadata": {},
   "outputs": [],
   "source": [
    "from math import floor\n",
    "distancia = 0\n",
    "cm = 0\n",
    "m = 0\n",
    "km = 0\n",
    "\n",
    "distancia = float(input(\"Input a distance in cm: \"))\n",
    "if distancia > 0:\n",
    "    km = floor(distancia/100000)\n",
    "    if km != 0:\n",
    "        m = floor(((distancia/100000) - km)*1000)\n",
    "        cm = floor(((((distancia/100000) - km)*1000) - m)*100)\n",
    "        print(distancia,\"cm, are\",km,\"km\",m,\"m\",cm,\"cm.\")\n",
    "    else:\n",
    "        m = floor(distancia/100)\n",
    "        if m != 0:\n",
    "            cm = floor(((distancia/100) - m)*100)\n",
    "            print(distancia,\"cm, are\",km,\"km\",m,\"m\",cm,\"cm.\")\n",
    "        else:\n",
    "            cm = distancia \n",
    "            print(distancia,\"cm, are\",km,\"km\",m,\"m\",cm,\"cm.\")\n",
    "else:\n",
    "    print(\"Input a value greater than zero.\")"
   ]
  },
  {
   "cell_type": "markdown",
   "id": "0957c2a3",
   "metadata": {},
   "source": [
    "### Exercise 14\n",
    "\n",
    "Improve the previous program so that unnecessary units are not displayed (when the value is zero)."
   ]
  },
  {
   "cell_type": "code",
   "execution_count": null,
   "id": "f82eda9b",
   "metadata": {},
   "outputs": [],
   "source": [
    "from math import floor\n",
    "distancia = 0\n",
    "cm = 0\n",
    "m = 0\n",
    "km = 0\n",
    "\n",
    "distancia = float(input(\"Input a distance in cm: \"))\n",
    "if distancia > 0:\n",
    "    km = floor(distancia/100000)\n",
    "    if km != 0:\n",
    "        m = floor(((distancia/100000) - km)*1000)\n",
    "        cm = floor(((((distancia/100000) - km)*1000) - m)*100)\n",
    "        if m == 0:\n",
    "            print(distancia,\"cm, are\",km,\"km.\")\n",
    "        else:\n",
    "            if cm == 0:\n",
    "                print(distancia,\"cm, are\",km,\"km\",m,\"m.\")\n",
    "            else:\n",
    "                print(distancia,\"cm, are\",km,\"km\",m,\"m\",cm,\"cm.\")           \n",
    "    else:\n",
    "        m = floor(distancia/100)\n",
    "        if m != 0:\n",
    "            cm = floor(((distancia/100) - m)*100)\n",
    "            if cm == 0:\n",
    "                print(distancia,\"cm, are\",m,\"m\")\n",
    "            else:\n",
    "                print(distancia,\"cm, are\",m,\"m\",cm,\"cm.\")\n",
    "        else:\n",
    "            cm = distancia \n",
    "            print(distancia,\"cm, are\",cm,\"cm.\")\n",
    "else:\n",
    "    print(\"Input a value greater than zero.\")"
   ]
  },
  {
   "cell_type": "markdown",
   "id": "9851b34c",
   "metadata": {},
   "source": [
    "### Exercise 15\n",
    "\n",
    "Improve the previous program so that commas are written after the units (except for the last one)."
   ]
  },
  {
   "cell_type": "code",
   "execution_count": null,
   "id": "f5b200b6",
   "metadata": {},
   "outputs": [],
   "source": [
    "from math import floor\n",
    "distancia = 0\n",
    "cm = 0\n",
    "m = 0\n",
    "km = 0\n",
    "\n",
    "distancia = float(input(\"Input a distance in cm: \"))\n",
    "if distancia > 0:\n",
    "    km = floor(distancia/100000)\n",
    "    if km != 0:\n",
    "        m = floor(((distancia/100000) - km)*1000)\n",
    "        cm = floor(((((distancia/100000) - km)*1000) - m)*100)\n",
    "        if m == 0:\n",
    "            print(distancia,\"cm, are \" + str(km) + \" km.\")\n",
    "        else:\n",
    "            if cm == 0:\n",
    "                print(distancia,\"cm, are \" + str(km) + \" km, \" + str(m) + \" m.\")\n",
    "            else:\n",
    "                print(distancia,\"cm, are \" + str(km) + \" km, \" + str(m) + \" m, \" + str(cm) + \" cm.\")           \n",
    "    else:\n",
    "        m = floor(distancia/100)\n",
    "        if m != 0:\n",
    "            cm = floor(((distancia/100) - m)*100)\n",
    "            if cm == 0:\n",
    "                print(distancia,\"cm, are \" + str(m) + \" m.\")\n",
    "            else:\n",
    "                print(distancia,\"cm, are \" + str(m) + \" m, \" + str(cm) + \" cm.\")\n",
    "        else:\n",
    "            cm = distancia \n",
    "            print(distancia,\"cm are \" + str(cm) + \" cm.\")\n",
    "else:\n",
    "    print(\"Input a value greater than zero.\")"
   ]
  },
  {
   "cell_type": "markdown",
   "id": "8a615b11",
   "metadata": {},
   "source": [
    "### Exercise 16\n",
    "\n",
    "Improve the previous program so that the conjunction 'and' is written before the last unit."
   ]
  },
  {
   "cell_type": "code",
   "execution_count": null,
   "id": "011325a2",
   "metadata": {},
   "outputs": [],
   "source": [
    "from math import floor\n",
    "from math import ceil\n",
    "\n",
    "distancia = 0\n",
    "cm = 0\n",
    "m = 0\n",
    "km = 0\n",
    "\n",
    "distancia = float(input(\"Input a distance in cm: \"))\n",
    "if distancia > 0:\n",
    "    km = floor(distancia/100000)\n",
    "    if km != 0:\n",
    "        m = floor(((distancia/100000) - km)*1000)\n",
    "        cm = floor(((((distancia/100000) - km)*1000) - m)*100)\n",
    "        if m == 0:\n",
    "            print(distancia,\"cm, are \" + str(km) + \" km.\")\n",
    "        else:\n",
    "            if cm == 0:\n",
    "                print(distancia,\"cm, are \" + str(km) + \" km and \" + str(m) + \" m.\")\n",
    "            else:\n",
    "                print(distancia,\"cm, are \" + str(km) + \" km, \" + str(m) + \" m and \" + str(cm) + \" cm.\")           \n",
    "    else:\n",
    "        m = floor(distancia/100)\n",
    "        if m != 0:\n",
    "            cm = ceil(((distancia/100) - m)*100)\n",
    "            if cm == 0:\n",
    "                print(distancia,\"cm, are \" + str(m) + \" m.\")\n",
    "            else:\n",
    "                print(distancia,\"cm, are \" + str(m) + \" m and \" + str(cm) + \" cm.\")\n",
    "        else:\n",
    "            cm = distancia \n",
    "            print(distancia,\"cm are \" + str(cm) + \" cm.\")\n",
    "else:\n",
    "    print(\"Input a value greater than zero.\")"
   ]
  },
  {
   "cell_type": "code",
   "execution_count": null,
   "id": "d47bf51f",
   "metadata": {},
   "outputs": [],
   "source": []
  }
 ],
 "metadata": {
  "kernelspec": {
   "display_name": "Python 3",
   "language": "python",
   "name": "python3"
  },
  "language_info": {
   "codemirror_mode": {
    "name": "ipython",
    "version": 3
   },
   "file_extension": ".py",
   "mimetype": "text/x-python",
   "name": "python",
   "nbconvert_exporter": "python",
   "pygments_lexer": "ipython3",
   "version": "3.8.8"
  }
 },
 "nbformat": 4,
 "nbformat_minor": 5
}
